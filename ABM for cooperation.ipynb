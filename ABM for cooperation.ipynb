{
 "cells": [
  {
   "cell_type": "markdown",
   "metadata": {},
   "source": [
    "# ABM Cooperation"
   ]
  },
  {
   "cell_type": "code",
   "execution_count": 102,
   "metadata": {},
   "outputs": [
    {
     "data": {
      "text/plain": [
       "0"
      ]
     },
     "execution_count": 102,
     "metadata": {},
     "output_type": "execute_result"
    }
   ],
   "source": [
    "payoff = {'CC':3,'CD':0,'DC':5,'DD':1}\n",
    "res = 'C'+'D'\n",
    "payoff[res]"
   ]
  },
  {
   "cell_type": "code",
   "execution_count": 103,
   "metadata": {},
   "outputs": [
    {
     "data": {
      "text/plain": [
       "4"
      ]
     },
     "execution_count": 103,
     "metadata": {},
     "output_type": "execute_result"
    }
   ],
   "source": [
    "len(payoff)"
   ]
  },
  {
   "cell_type": "code",
   "execution_count": 104,
   "metadata": {},
   "outputs": [
    {
     "data": {
      "text/plain": [
       "['CC', 'DC']"
      ]
     },
     "execution_count": 104,
     "metadata": {},
     "output_type": "execute_result"
    }
   ],
   "source": [
    "sub = [k for (k,v) in payoff.items() if v > 2]\n",
    "sub"
   ]
  },
  {
   "cell_type": "code",
   "execution_count": 105,
   "metadata": {},
   "outputs": [
    {
     "data": {
      "text/plain": [
       "'CC'"
      ]
     },
     "execution_count": 105,
     "metadata": {},
     "output_type": "execute_result"
    }
   ],
   "source": [
    "import random\n",
    "s = random.choice(sub)\n",
    "s"
   ]
  },
  {
   "cell_type": "code",
   "execution_count": 108,
   "metadata": {},
   "outputs": [
    {
     "data": {
      "text/plain": [
       "'CC'"
      ]
     },
     "execution_count": 108,
     "metadata": {},
     "output_type": "execute_result"
    }
   ],
   "source": [
    "random.choice(list(payoff.keys()))"
   ]
  },
  {
   "cell_type": "code",
   "execution_count": 106,
   "metadata": {},
   "outputs": [
    {
     "data": {
      "text/plain": [
       "{'CC': 3, 'CD': 0, 'DC': 5, 'DD': 1}"
      ]
     },
     "execution_count": 106,
     "metadata": {},
     "output_type": "execute_result"
    }
   ],
   "source": [
    "#del payoff[s]\n",
    "payoff"
   ]
  },
  {
   "cell_type": "code",
   "execution_count": 6,
   "metadata": {},
   "outputs": [
    {
     "data": {
      "text/plain": [
       "{0: 0.1, 1: 0.05, 2: 0.9}"
      ]
     },
     "execution_count": 6,
     "metadata": {},
     "output_type": "execute_result"
    }
   ],
   "source": [
    "memory = {0:0.1, 1:0.8, 2:0.9}\n",
    "memory[1] = 0.05\n",
    "memory"
   ]
  },
  {
   "cell_type": "code",
   "execution_count": 22,
   "metadata": {},
   "outputs": [
    {
     "name": "stdout",
     "output_type": "stream",
     "text": [
      "False\n",
      "True\n"
     ]
    }
   ],
   "source": [
    "print(1 not in memory)\n",
    "print(56 not in memory)"
   ]
  },
  {
   "cell_type": "code",
   "execution_count": 12,
   "metadata": {},
   "outputs": [],
   "source": [
    "# Importing the libraries\n",
    "import numpy as np\n",
    "import matplotlib.pyplot as plt\n",
    "%matplotlib inline  \n",
    "import pandas as pd\n",
    "import warnings\n",
    "warnings.filterwarnings('ignore')\n",
    "import timeit"
   ]
  },
  {
   "cell_type": "code",
   "execution_count": 19,
   "metadata": {},
   "outputs": [
    {
     "data": {
      "text/plain": [
       "0.4"
      ]
     },
     "execution_count": 19,
     "metadata": {},
     "output_type": "execute_result"
    }
   ],
   "source": [
    "class memory_cell():\n",
    "    def __init__(self):\n",
    "        self.defect_number = 0\n",
    "        self.play_number = 0\n",
    "    def impression(self):\n",
    "        return self.defect_number/max(1, self.play_number)\n",
    "        \n",
    "m = memory_cell()\n",
    "m.play_number = 5\n",
    "m.defect_number = 2\n",
    "m.impression()"
   ]
  },
  {
   "cell_type": "code",
   "execution_count": 20,
   "metadata": {},
   "outputs": [
    {
     "data": {
      "text/plain": [
       "3"
      ]
     },
     "execution_count": 20,
     "metadata": {},
     "output_type": "execute_result"
    }
   ],
   "source": [
    "a = 2\n",
    "a += 1\n",
    "a"
   ]
  },
  {
   "cell_type": "code",
   "execution_count": 150,
   "metadata": {},
   "outputs": [],
   "source": [
    "# Importing the libraries\n",
    "import numpy as np\n",
    "import matplotlib.pyplot as plt\n",
    "%matplotlib inline  \n",
    "import pandas as pd\n",
    "import warnings\n",
    "warnings.filterwarnings('ignore')\n",
    "import timeit\n",
    "import random\n",
    "\n",
    "class memory_cell():\n",
    "    def __init__(self):\n",
    "        self.defect_number = 0\n",
    "        self.play_number = 0\n",
    "    def impression(self):\n",
    "        return self.defect_number/max(1, self.play_number)\n",
    "    \n",
    "class agent():\n",
    "    def __init__(self,ID, pc = 1, M = 1):\n",
    "        self.ID, self.pc, self.M = ID, pc, M\n",
    "        self.score, self.memory = 0, dict()\n",
    "    def act(self):\n",
    "        if np.random.rand() < self.pc:\n",
    "            return 'C'\n",
    "        return 'D'\n",
    "    def learn(self, other, act):\n",
    "        if other not in self.memory:\n",
    "            self.forget()\n",
    "            m = memory_cell()\n",
    "            self.memory[other] = m\n",
    "        if act == 'D' :\n",
    "            self.memory[other].defect_number += 1\n",
    "        self.memory[other].play_number += 1\n",
    "        \n",
    "    def forget(self):\n",
    "        if len(self.memory) >= self.M:\n",
    "            cooperators = [k for (k,v) in self.memory.items() if v.impression() < 0.5]\n",
    "            if len(cooperators) > 0:\n",
    "                del self.memory[random.choice(cooperators)]\n",
    "            else:\n",
    "                del self.memory[random.choice(list(self.memory.keys()))]\n",
    "                \n",
    "    def display(self):\n",
    "        return [(k.ID, v.impression()) for (k,v) in self.memory.items()]\n",
    "                \n",
    "class abm():\n",
    "    def __init__(self, N = 10, time = 1000):\n",
    "        self.N, self.time = N, time\n",
    "        self.population = [agent(i, pc = np.random.rand()) for i in range(self.N)]\n",
    "        self.payoff = {'CC':3,'CD':0,'DC':5,'DD':1}\n",
    "        \n",
    "    def world(self):\n",
    "        for i in range(self.time):\n",
    "            iA, iB = np.random.choice(range(self.N), 2, replace=False)\n",
    "            A, B = self.population[iA], self.population[iB]\n",
    "            \n",
    "            # Decision to interact\n",
    "            if B in A.memory:\n",
    "                if A.memory[B].impression() > 0.5: continue\n",
    "            if A in B.memory:\n",
    "                if B.memory[A].impression() > 0.5: continue\n",
    "            \n",
    "            A_action, B_action = A.act(), B.act()\n",
    "            A.learn(B, B_action)\n",
    "            B.learn(A, A_action)\n",
    "\n",
    "            A.score += self.payoff[A_action+B_action]\n",
    "            B.score += self.payoff[B_action+A_action]\n",
    "            \n",
    "    def display(self):\n",
    "        df = pd.DataFrame(columns=['ID','pC', 'score', 'Memory'])\n",
    "        for A in self.population:\n",
    "            df.loc[A.ID] = pd.Series({'ID':A.ID, 'pC':A.pc, 'score':A.score, 'Memory':A.display()})\n",
    "        return df"
   ]
  },
  {
   "cell_type": "code",
   "execution_count": 151,
   "metadata": {},
   "outputs": [
    {
     "data": {
      "text/html": [
       "<div>\n",
       "<style scoped>\n",
       "    .dataframe tbody tr th:only-of-type {\n",
       "        vertical-align: middle;\n",
       "    }\n",
       "\n",
       "    .dataframe tbody tr th {\n",
       "        vertical-align: top;\n",
       "    }\n",
       "\n",
       "    .dataframe thead th {\n",
       "        text-align: right;\n",
       "    }\n",
       "</style>\n",
       "<table border=\"1\" class=\"dataframe\">\n",
       "  <thead>\n",
       "    <tr style=\"text-align: right;\">\n",
       "      <th></th>\n",
       "      <th>ID</th>\n",
       "      <th>pC</th>\n",
       "      <th>score</th>\n",
       "      <th>Memory</th>\n",
       "    </tr>\n",
       "  </thead>\n",
       "  <tbody>\n",
       "    <tr>\n",
       "      <th>0</th>\n",
       "      <td>0</td>\n",
       "      <td>0.601878</td>\n",
       "      <td>284</td>\n",
       "      <td>[(3, 1.0)]</td>\n",
       "    </tr>\n",
       "    <tr>\n",
       "      <th>1</th>\n",
       "      <td>1</td>\n",
       "      <td>0.238253</td>\n",
       "      <td>387</td>\n",
       "      <td>[(2, 0.0)]</td>\n",
       "    </tr>\n",
       "    <tr>\n",
       "      <th>2</th>\n",
       "      <td>2</td>\n",
       "      <td>0.637035</td>\n",
       "      <td>339</td>\n",
       "      <td>[(1, 1.0)]</td>\n",
       "    </tr>\n",
       "    <tr>\n",
       "      <th>3</th>\n",
       "      <td>3</td>\n",
       "      <td>0.384209</td>\n",
       "      <td>431</td>\n",
       "      <td>[(1, 0.0)]</td>\n",
       "    </tr>\n",
       "    <tr>\n",
       "      <th>4</th>\n",
       "      <td>4</td>\n",
       "      <td>0.964355</td>\n",
       "      <td>182</td>\n",
       "      <td>[(2, 0.0)]</td>\n",
       "    </tr>\n",
       "    <tr>\n",
       "      <th>5</th>\n",
       "      <td>5</td>\n",
       "      <td>0.051031</td>\n",
       "      <td>486</td>\n",
       "      <td>[(7, 1.0)]</td>\n",
       "    </tr>\n",
       "    <tr>\n",
       "      <th>6</th>\n",
       "      <td>6</td>\n",
       "      <td>0.483447</td>\n",
       "      <td>289</td>\n",
       "      <td>[(4, 0.0)]</td>\n",
       "    </tr>\n",
       "    <tr>\n",
       "      <th>7</th>\n",
       "      <td>7</td>\n",
       "      <td>0.054525</td>\n",
       "      <td>388</td>\n",
       "      <td>[(9, 1.0)]</td>\n",
       "    </tr>\n",
       "    <tr>\n",
       "      <th>8</th>\n",
       "      <td>8</td>\n",
       "      <td>0.137592</td>\n",
       "      <td>445</td>\n",
       "      <td>[(1, 0.0)]</td>\n",
       "    </tr>\n",
       "    <tr>\n",
       "      <th>9</th>\n",
       "      <td>9</td>\n",
       "      <td>0.399890</td>\n",
       "      <td>351</td>\n",
       "      <td>[(7, 1.0)]</td>\n",
       "    </tr>\n",
       "  </tbody>\n",
       "</table>\n",
       "</div>"
      ],
      "text/plain": [
       "  ID        pC score      Memory\n",
       "0  0  0.601878   284  [(3, 1.0)]\n",
       "1  1  0.238253   387  [(2, 0.0)]\n",
       "2  2  0.637035   339  [(1, 1.0)]\n",
       "3  3  0.384209   431  [(1, 0.0)]\n",
       "4  4  0.964355   182  [(2, 0.0)]\n",
       "5  5  0.051031   486  [(7, 1.0)]\n",
       "6  6  0.483447   289  [(4, 0.0)]\n",
       "7  7  0.054525   388  [(9, 1.0)]\n",
       "8  8  0.137592   445  [(1, 0.0)]\n",
       "9  9  0.399890   351  [(7, 1.0)]"
      ]
     },
     "execution_count": 151,
     "metadata": {},
     "output_type": "execute_result"
    }
   ],
   "source": [
    "sim = abm()\n",
    "sim.world()\n",
    "sim.display()"
   ]
  },
  {
   "cell_type": "code",
   "execution_count": 58,
   "metadata": {},
   "outputs": [
    {
     "data": {
      "text/plain": [
       "20"
      ]
     },
     "execution_count": 58,
     "metadata": {},
     "output_type": "execute_result"
    }
   ],
   "source": [
    "A.score += 5\n",
    "A.score"
   ]
  },
  {
   "cell_type": "code",
   "execution_count": 60,
   "metadata": {},
   "outputs": [
    {
     "name": "stdout",
     "output_type": "stream",
     "text": [
      "1 1\n",
      "0 1\n"
     ]
    }
   ],
   "source": [
    "A = agent(3, pc = 1)\n",
    "B = agent(7, pc = 0)\n",
    "\n",
    "A.learn(B, B.act())\n",
    "A.memory\n",
    "\n",
    "B.learn(A, A.act())\n",
    "B.memory\n",
    "\n",
    "for k,v in A.memory.items():\n",
    "    print(v.defect_number, v.play_number)\n",
    "    \n",
    "for k,v in B.memory.items():\n",
    "    print(v.defect_number, v.play_number)"
   ]
  },
  {
   "cell_type": "code",
   "execution_count": 67,
   "metadata": {},
   "outputs": [
    {
     "name": "stdout",
     "output_type": "stream",
     "text": [
      "------\n",
      "A_action C\n",
      "B_action D\n",
      "A.score 0\n",
      "B.score 30\n"
     ]
    }
   ],
   "source": [
    "A_action, B_action = A.act(), B.act()\n",
    "\n",
    "# Decision to interact\n",
    "\n",
    "A.learn(B, B_action)\n",
    "B.learn(A, A_action)\n",
    "\n",
    "A.score += payoff[A_action+B_action]\n",
    "B.score += payoff[B_action+A_action]\n",
    "\n",
    "print(\"------\")\n",
    "print(\"A_action\", A_action)\n",
    "print(\"B_action\", B_action)\n",
    "\n",
    "print(\"A.score\", A.score)\n",
    "print(\"B.score\", B.score)"
   ]
  },
  {
   "cell_type": "code",
   "execution_count": 70,
   "metadata": {},
   "outputs": [
    {
     "data": {
      "text/plain": [
       "True"
      ]
     },
     "execution_count": 70,
     "metadata": {},
     "output_type": "execute_result"
    }
   ],
   "source": [
    "B in A.memory"
   ]
  },
  {
   "cell_type": "code",
   "execution_count": 73,
   "metadata": {},
   "outputs": [
    {
     "data": {
      "text/plain": [
       "1.0"
      ]
     },
     "execution_count": 73,
     "metadata": {},
     "output_type": "execute_result"
    }
   ],
   "source": [
    "A.memory[B].impression()"
   ]
  },
  {
   "cell_type": "code",
   "execution_count": 135,
   "metadata": {},
   "outputs": [
    {
     "data": {
      "text/html": [
       "<div>\n",
       "<style scoped>\n",
       "    .dataframe tbody tr th:only-of-type {\n",
       "        vertical-align: middle;\n",
       "    }\n",
       "\n",
       "    .dataframe tbody tr th {\n",
       "        vertical-align: top;\n",
       "    }\n",
       "\n",
       "    .dataframe thead th {\n",
       "        text-align: right;\n",
       "    }\n",
       "</style>\n",
       "<table border=\"1\" class=\"dataframe\">\n",
       "  <thead>\n",
       "    <tr style=\"text-align: right;\">\n",
       "      <th></th>\n",
       "      <th>A</th>\n",
       "      <th>B</th>\n",
       "      <th>C</th>\n",
       "    </tr>\n",
       "  </thead>\n",
       "  <tbody>\n",
       "    <tr>\n",
       "      <th>0</th>\n",
       "      <td>1.0</td>\n",
       "      <td>2.0</td>\n",
       "      <td>3.0</td>\n",
       "    </tr>\n",
       "    <tr>\n",
       "      <th>1</th>\n",
       "      <td>13.0</td>\n",
       "      <td>22.0</td>\n",
       "      <td>31.0</td>\n",
       "    </tr>\n",
       "  </tbody>\n",
       "</table>\n",
       "</div>"
      ],
      "text/plain": [
       "      A     B     C\n",
       "0   1.0   2.0   3.0\n",
       "1  13.0  22.0  31.0"
      ]
     },
     "execution_count": 135,
     "metadata": {},
     "output_type": "execute_result"
    }
   ],
   "source": [
    "columns = ['A','B', 'C']\n",
    "data = np.array([[1,2,3]])\n",
    "df = pd.DataFrame(columns=columns)\n",
    "df.loc[0,:] = data\n",
    "df.loc[1,:] = np.array([[13,22,31]])\n",
    "df\n"
   ]
  },
  {
   "cell_type": "code",
   "execution_count": 136,
   "metadata": {},
   "outputs": [
    {
     "data": {
      "text/plain": [
       "array([[1, 2, 3]])"
      ]
     },
     "execution_count": 136,
     "metadata": {},
     "output_type": "execute_result"
    }
   ],
   "source": [
    "data = np.array([[1,2,3]])\n",
    "data"
   ]
  },
  {
   "cell_type": "code",
   "execution_count": 141,
   "metadata": {},
   "outputs": [
    {
     "data": {
      "text/html": [
       "<div>\n",
       "<style scoped>\n",
       "    .dataframe tbody tr th:only-of-type {\n",
       "        vertical-align: middle;\n",
       "    }\n",
       "\n",
       "    .dataframe tbody tr th {\n",
       "        vertical-align: top;\n",
       "    }\n",
       "\n",
       "    .dataframe thead th {\n",
       "        text-align: right;\n",
       "    }\n",
       "</style>\n",
       "<table border=\"1\" class=\"dataframe\">\n",
       "  <thead>\n",
       "    <tr style=\"text-align: right;\">\n",
       "      <th></th>\n",
       "      <th>a</th>\n",
       "      <th>b</th>\n",
       "      <th>c</th>\n",
       "      <th>d</th>\n",
       "    </tr>\n",
       "  </thead>\n",
       "  <tbody>\n",
       "    <tr>\n",
       "      <th>y</th>\n",
       "      <td>1</td>\n",
       "      <td>5</td>\n",
       "      <td>2</td>\n",
       "      <td>3</td>\n",
       "    </tr>\n",
       "  </tbody>\n",
       "</table>\n",
       "</div>"
      ],
      "text/plain": [
       "   a  b  c  d\n",
       "y  1  5  2  3"
      ]
     },
     "execution_count": 141,
     "metadata": {},
     "output_type": "execute_result"
    }
   ],
   "source": [
    "df = pd.DataFrame(columns=['a','b','c','d'])\n",
    "df.loc['y'] = pd.Series({'a':1, 'b':5, 'c':2, 'd':3})\n",
    "df"
   ]
  },
  {
   "cell_type": "code",
   "execution_count": null,
   "metadata": {},
   "outputs": [],
   "source": []
  }
 ],
 "metadata": {
  "kernelspec": {
   "display_name": "Python 3",
   "language": "python",
   "name": "python3"
  },
  "language_info": {
   "codemirror_mode": {
    "name": "ipython",
    "version": 3
   },
   "file_extension": ".py",
   "mimetype": "text/x-python",
   "name": "python",
   "nbconvert_exporter": "python",
   "pygments_lexer": "ipython3",
   "version": "3.6.7"
  }
 },
 "nbformat": 4,
 "nbformat_minor": 2
}
